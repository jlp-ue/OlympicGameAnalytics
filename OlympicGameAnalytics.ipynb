{
 "cells": [
  {
   "cell_type": "markdown",
   "metadata": {},
   "source": [
    "# Olympic Game Analytics "
   ]
  },
  {
   "cell_type": "markdown",
   "metadata": {},
   "source": [
    "- Team \n",
    "- topic \n",
    "- intro \n"
   ]
  },
  {
   "cell_type": "markdown",
   "metadata": {},
   "source": [
    "## Tasks : \n",
    "\n",
    "\n",
    "- provide some insight on your assigned sport event’s data \n",
    "- provide some insight on the athletes that competed in your assigned sport event.\n",
    "    * performance of the most/least awarded athlete in several editions, \n",
    "\t* how the average score/points evolved over several editions,\n",
    "\t* \"here is the code that computes the rankings of the nationalities with more medals\".\n",
    "\t* In detail, be creative\n",
    "\t* Our own ideas:\n",
    "\t* Nation \n",
    "\t\t* Which nation won the most (barchart / piechart)\n",
    "\t\t* Which nation took part the most (barchart / piechart)\n",
    "\t\t* Which nation is the fastest / slowest (barchart)\n",
    "\t\t* Which nation is the oldest / youngest (barchart)\n",
    "\t\t\n",
    "\t* Age \n",
    "\t\t* Mean age for each nation \n",
    "        * age distribution (boxplot)\n",
    "\t\t* Age of winners / age of loosers \n",
    "\t\t* Correlation age - time / age - speed / age - win \n",
    "\t* Year of sport event \n",
    "\t\t* number of Nations per year (barchart)\n",
    "\t\t* Mean time in each year / mean speed in each year\n",
    "\t* Round ? \n",
    "\t* Time in seconds\n",
    "        * highest / lowest \n",
    "        * distribution (boxplot)\n",
    "\t* Speed in kmh \n",
    "        * highest / lowest \n",
    "        * mean per year \n",
    "        * mean per country \n",
    "        * mean per round\n",
    "\t\n",
    "- Augment the program developed in (1) to automatically generate two tables and three plots that can summarize your data, e.g., boxplots, barcharts, etc\n",
    "- Write at least one test class and at least five test cases to verify the code developed in (1). Any test case must use developed with the unittest library.\n",
    "- Write a report on your findings. The report must \n",
    "\t* Describe the details of your assigned game, e.g., what is it, how is it organized, rules, etc.\n",
    "\t* Describe the analysis conducted in (1) and (2).\n",
    "\t* Describe the results and conclusions achieved in (1).\n",
    "\t* Include and describe the tables and plots generated in (2).\n",
    "\t* Be a .pdf file.\n",
    "- Upload: zip \n",
    "\t* groupXX_sportYY.zip, where XX is your group identifier (e.g., 01) and YY is the Olympic sport event identifier (e.g., 03).\n",
    "\t\n"
   ]
  },
  {
   "cell_type": "code",
   "execution_count": null,
   "metadata": {},
   "outputs": [],
   "source": [
    "import pandas as pd \n",
    "import numpy as np "
   ]
  },
  {
   "cell_type": "code",
   "execution_count": null,
   "metadata": {},
   "outputs": [],
   "source": [
    "athlets = pd.read_csv('athlets.csv')   \n",
    "sport_events = pd.read_csv('sport_events.csv')  \n",
    "\n",
    "display(athlets)\n",
    "display(sport_events)"
   ]
  },
  {
   "cell_type": "code",
   "execution_count": null,
   "metadata": {},
   "outputs": [],
   "source": []
  }
 ],
 "metadata": {
  "kernelspec": {
   "display_name": "Python 3",
   "language": "python",
   "name": "python3"
  },
  "language_info": {
   "codemirror_mode": {
    "name": "ipython",
    "version": 3
   },
   "file_extension": ".py",
   "mimetype": "text/x-python",
   "name": "python",
   "nbconvert_exporter": "python",
   "pygments_lexer": "ipython3",
   "version": "3.8.4"
  }
 },
 "nbformat": 4,
 "nbformat_minor": 4
}
