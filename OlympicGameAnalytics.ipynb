{
 "cells": [
  {
   "cell_type": "markdown",
   "metadata": {},
   "source": [
    "# Olympic Game Analytics: Cycling – Men’s sprint"
   ]
  },
  {
   "cell_type": "markdown",
   "metadata": {},
   "source": [
    "## Introduction: \n",
    "\n",
    "In the following the data of the last five Olympic Games in the discipline Cycling – Men’s sprint (2000-2016) were collected and analysed. The goal is to represent the sport events in general and outline facts gained out of the data set.\n",
    "Every table and plot begins with a short description and ends with a result. \n",
    "The used code is tested by a unittest class in the end. \n",
    "\n",
    "- Team: group26\n",
    "- Names: \n",
    "- Event: sport04 = Cycling – Men’s sprint"
   ]
  },
  {
   "cell_type": "markdown",
   "metadata": {},
   "source": [
    "# About the game\n",
    "\n",
    "### Cycling - Sprint men - Summer Olympic Games\n",
    "Cycling has been contested at every Summer Olympic Games since the birth of the modern Olympic movement at the 1896 Summer Olympics, at which a road race and five track events were held. \n",
    "The sprint or match sprint is a track cycling event involving between two and four riders, though it is usually run as a one-on-one match race between opponents who, unlike in the individual pursuit, start next to each other. Men's sprint has been an Olympic event at every games except 1904 (which had races at seven different distances) and 1912 (which had no track cycling events). \n",
    "### Rules\n",
    "As defined by Union Cycliste Internationale (UCI) rules, the first round of competition used to qualify for the sprint competition is the flying 200 m time trial. In this round each rider completes two to three warm up laps and then completes the final 200 m, which is usually just under a lap.\n",
    "The top riders are seeded in the following rounds, meaning the fastest qualifier will face the slowest qualifier and so on. Knock-out rounds then proceed, initially on a one race basis and then on a best-of three-race format from the quarter-final stage. Riders defeated in the earlier rounds may get a chance to continue in the competition through the repechage races. <br> *(source: wikipedia)*"
   ]
  },
  {
   "cell_type": "markdown",
   "metadata": {},
   "source": [
    "# Analysis"
   ]
  },
  {
   "cell_type": "markdown",
   "metadata": {},
   "source": [
    "## Imports"
   ]
  },
  {
   "cell_type": "code",
   "execution_count": 1,
   "metadata": {},
   "outputs": [],
   "source": [
    "import pandas as pd \n",
    "import numpy as np \n",
    "import seaborn as sns\n",
    "from datetime import datetime, date\n",
    "import unittest"
   ]
  },
  {
   "cell_type": "markdown",
   "metadata": {},
   "source": [
    "## Read the data"
   ]
  },
  {
   "cell_type": "code",
   "execution_count": 2,
   "metadata": {},
   "outputs": [
    {
     "data": {
      "text/html": [
       "<div>\n",
       "<style scoped>\n",
       "    .dataframe tbody tr th:only-of-type {\n",
       "        vertical-align: middle;\n",
       "    }\n",
       "\n",
       "    .dataframe tbody tr th {\n",
       "        vertical-align: top;\n",
       "    }\n",
       "\n",
       "    .dataframe thead th {\n",
       "        text-align: right;\n",
       "    }\n",
       "</style>\n",
       "<table border=\"1\" class=\"dataframe\">\n",
       "  <thead>\n",
       "    <tr style=\"text-align: right;\">\n",
       "      <th></th>\n",
       "      <th>athlete_id</th>\n",
       "      <th>name</th>\n",
       "      <th>nation</th>\n",
       "      <th>date_of_birth</th>\n",
       "      <th>sex</th>\n",
       "    </tr>\n",
       "  </thead>\n",
       "  <tbody>\n",
       "    <tr>\n",
       "      <th>0</th>\n",
       "      <td>1</td>\n",
       "      <td>Jason Kenny</td>\n",
       "      <td>Great Britain</td>\n",
       "      <td>1988-03-23</td>\n",
       "      <td>male</td>\n",
       "    </tr>\n",
       "    <tr>\n",
       "      <th>1</th>\n",
       "      <td>2</td>\n",
       "      <td>Callum Skinner</td>\n",
       "      <td>Great Britain</td>\n",
       "      <td>1992-08-20</td>\n",
       "      <td>male</td>\n",
       "    </tr>\n",
       "    <tr>\n",
       "      <th>2</th>\n",
       "      <td>3</td>\n",
       "      <td>Matthew Glaetzer</td>\n",
       "      <td>Australia</td>\n",
       "      <td>1992-08-24</td>\n",
       "      <td>male</td>\n",
       "    </tr>\n",
       "    <tr>\n",
       "      <th>3</th>\n",
       "      <td>4</td>\n",
       "      <td>Denis Dmitriev</td>\n",
       "      <td>Russia</td>\n",
       "      <td>1986-03-23</td>\n",
       "      <td>male</td>\n",
       "    </tr>\n",
       "    <tr>\n",
       "      <th>4</th>\n",
       "      <td>5</td>\n",
       "      <td>Grégory Baugé</td>\n",
       "      <td>France</td>\n",
       "      <td>1985-01-31</td>\n",
       "      <td>male</td>\n",
       "    </tr>\n",
       "    <tr>\n",
       "      <th>...</th>\n",
       "      <td>...</td>\n",
       "      <td>...</td>\n",
       "      <td>...</td>\n",
       "      <td>...</td>\n",
       "      <td>...</td>\n",
       "    </tr>\n",
       "    <tr>\n",
       "      <th>77</th>\n",
       "      <td>78</td>\n",
       "      <td>Anthony Peden</td>\n",
       "      <td>New Zealand</td>\n",
       "      <td>1970-09-15</td>\n",
       "      <td>male</td>\n",
       "    </tr>\n",
       "    <tr>\n",
       "      <th>78</th>\n",
       "      <td>79</td>\n",
       "      <td>Nikolaos Angelidis</td>\n",
       "      <td>Greece</td>\n",
       "      <td>1977-01-22</td>\n",
       "      <td>male</td>\n",
       "    </tr>\n",
       "    <tr>\n",
       "      <th>79</th>\n",
       "      <td>80</td>\n",
       "      <td>Julio César Herrera</td>\n",
       "      <td>Cuba</td>\n",
       "      <td>1977-03-11</td>\n",
       "      <td>male</td>\n",
       "    </tr>\n",
       "    <tr>\n",
       "      <th>80</th>\n",
       "      <td>81</td>\n",
       "      <td>Christian Arrue</td>\n",
       "      <td>United States</td>\n",
       "      <td>1969-01-08</td>\n",
       "      <td>male</td>\n",
       "    </tr>\n",
       "    <tr>\n",
       "      <th>81</th>\n",
       "      <td>82</td>\n",
       "      <td>Bartlomiej Saczuk</td>\n",
       "      <td>Poland</td>\n",
       "      <td>1979-10-10</td>\n",
       "      <td>male</td>\n",
       "    </tr>\n",
       "  </tbody>\n",
       "</table>\n",
       "<p>82 rows × 5 columns</p>\n",
       "</div>"
      ],
      "text/plain": [
       "    athlete_id                 name         nation date_of_birth   sex\n",
       "0            1          Jason Kenny  Great Britain    1988-03-23  male\n",
       "1            2       Callum Skinner  Great Britain    1992-08-20  male\n",
       "2            3     Matthew Glaetzer      Australia    1992-08-24  male\n",
       "3            4       Denis Dmitriev         Russia    1986-03-23  male\n",
       "4            5        Grégory Baugé         France    1985-01-31  male\n",
       "..         ...                  ...            ...           ...   ...\n",
       "77          78        Anthony Peden    New Zealand    1970-09-15  male\n",
       "78          79   Nikolaos Angelidis         Greece    1977-01-22  male\n",
       "79          80  Julio César Herrera           Cuba    1977-03-11  male\n",
       "80          81      Christian Arrue  United States    1969-01-08  male\n",
       "81          82    Bartlomiej Saczuk         Poland    1979-10-10  male\n",
       "\n",
       "[82 rows x 5 columns]"
      ]
     },
     "metadata": {},
     "output_type": "display_data"
    },
    {
     "data": {
      "text/html": [
       "<div>\n",
       "<style scoped>\n",
       "    .dataframe tbody tr th:only-of-type {\n",
       "        vertical-align: middle;\n",
       "    }\n",
       "\n",
       "    .dataframe tbody tr th {\n",
       "        vertical-align: top;\n",
       "    }\n",
       "\n",
       "    .dataframe thead th {\n",
       "        text-align: right;\n",
       "    }\n",
       "</style>\n",
       "<table border=\"1\" class=\"dataframe\">\n",
       "  <thead>\n",
       "    <tr style=\"text-align: right;\">\n",
       "      <th></th>\n",
       "      <th>year</th>\n",
       "      <th>athlete_id</th>\n",
       "      <th>round</th>\n",
       "      <th>rank</th>\n",
       "      <th>time_in_seconds</th>\n",
       "      <th>speedkmh</th>\n",
       "    </tr>\n",
       "  </thead>\n",
       "  <tbody>\n",
       "    <tr>\n",
       "      <th>0</th>\n",
       "      <td>2000</td>\n",
       "      <td>66</td>\n",
       "      <td>heat 1</td>\n",
       "      <td>1</td>\n",
       "      <td>10.956</td>\n",
       "      <td>65.717</td>\n",
       "    </tr>\n",
       "    <tr>\n",
       "      <th>1</th>\n",
       "      <td>2000</td>\n",
       "      <td>81</td>\n",
       "      <td>heat 1</td>\n",
       "      <td>2</td>\n",
       "      <td>NaN</td>\n",
       "      <td>NaN</td>\n",
       "    </tr>\n",
       "    <tr>\n",
       "      <th>2</th>\n",
       "      <td>2000</td>\n",
       "      <td>67</td>\n",
       "      <td>heat 2</td>\n",
       "      <td>1</td>\n",
       "      <td>11.054</td>\n",
       "      <td>65.135</td>\n",
       "    </tr>\n",
       "    <tr>\n",
       "      <th>3</th>\n",
       "      <td>2000</td>\n",
       "      <td>80</td>\n",
       "      <td>heat 2</td>\n",
       "      <td>2</td>\n",
       "      <td>NaN</td>\n",
       "      <td>NaN</td>\n",
       "    </tr>\n",
       "    <tr>\n",
       "      <th>4</th>\n",
       "      <td>2000</td>\n",
       "      <td>68</td>\n",
       "      <td>heat 3</td>\n",
       "      <td>1</td>\n",
       "      <td>10.865</td>\n",
       "      <td>66.268</td>\n",
       "    </tr>\n",
       "    <tr>\n",
       "      <th>...</th>\n",
       "      <td>...</td>\n",
       "      <td>...</td>\n",
       "      <td>...</td>\n",
       "      <td>...</td>\n",
       "      <td>...</td>\n",
       "      <td>...</td>\n",
       "    </tr>\n",
       "    <tr>\n",
       "      <th>335</th>\n",
       "      <td>2016</td>\n",
       "      <td>17</td>\n",
       "      <td>finals</td>\n",
       "      <td>8</td>\n",
       "      <td>10.929</td>\n",
       "      <td>NaN</td>\n",
       "    </tr>\n",
       "    <tr>\n",
       "      <th>336</th>\n",
       "      <td>2016</td>\n",
       "      <td>4</td>\n",
       "      <td>finals</td>\n",
       "      <td>3</td>\n",
       "      <td>10.105</td>\n",
       "      <td>NaN</td>\n",
       "    </tr>\n",
       "    <tr>\n",
       "      <th>337</th>\n",
       "      <td>2016</td>\n",
       "      <td>3</td>\n",
       "      <td>finals</td>\n",
       "      <td>4</td>\n",
       "      <td>10.177</td>\n",
       "      <td>NaN</td>\n",
       "    </tr>\n",
       "    <tr>\n",
       "      <th>338</th>\n",
       "      <td>2016</td>\n",
       "      <td>1</td>\n",
       "      <td>finals</td>\n",
       "      <td>1</td>\n",
       "      <td>10.164</td>\n",
       "      <td>NaN</td>\n",
       "    </tr>\n",
       "    <tr>\n",
       "      <th>339</th>\n",
       "      <td>2016</td>\n",
       "      <td>2</td>\n",
       "      <td>finals</td>\n",
       "      <td>2</td>\n",
       "      <td>10.277</td>\n",
       "      <td>NaN</td>\n",
       "    </tr>\n",
       "  </tbody>\n",
       "</table>\n",
       "<p>340 rows × 6 columns</p>\n",
       "</div>"
      ],
      "text/plain": [
       "     year  athlete_id   round  rank  time_in_seconds  speedkmh\n",
       "0    2000          66  heat 1     1           10.956    65.717\n",
       "1    2000          81  heat 1     2              NaN       NaN\n",
       "2    2000          67  heat 2     1           11.054    65.135\n",
       "3    2000          80  heat 2     2              NaN       NaN\n",
       "4    2000          68  heat 3     1           10.865    66.268\n",
       "..    ...         ...     ...   ...              ...       ...\n",
       "335  2016          17  finals     8           10.929       NaN\n",
       "336  2016           4  finals     3           10.105       NaN\n",
       "337  2016           3  finals     4           10.177       NaN\n",
       "338  2016           1  finals     1           10.164       NaN\n",
       "339  2016           2  finals     2           10.277       NaN\n",
       "\n",
       "[340 rows x 6 columns]"
      ]
     },
     "metadata": {},
     "output_type": "display_data"
    }
   ],
   "source": [
    "athlets = pd.read_csv('athlets.csv')   \n",
    "sport_events = pd.read_csv('sport_events.csv')\n",
    "\n",
    "athlets = athlets.rename(columns = {\"id\" : \"athlete_id\"})\n",
    "\n",
    "athlets.date_of_birth = pd.to_datetime(athlets.date_of_birth, dayfirst = True)\n",
    "\n",
    "display(athlets)\n",
    "display(sport_events)"
   ]
  },
  {
   "cell_type": "markdown",
   "metadata": {},
   "source": [
    "## Which nations won in the last five Olympic games? "
   ]
  },
  {
   "cell_type": "markdown",
   "metadata": {},
   "source": [
    "### Code and Plots\n",
    "\n",
    "Description of the analysis"
   ]
  },
  {
   "cell_type": "markdown",
   "metadata": {},
   "source": [
    "1. To answer that question we first have to filter the sport_events dataframe for the final rounds = finals and then filter it for the rank number = 1. We can do this all at once by chained filtering, so chaining the criteria in the boolean index.\n",
    "\n",
    "2. After that we have to merge the newly created dataframe finals with the athlets dataframe on the athlete_id to get the names and nations of the winners. We call that dataframe finals_with_athletes. \n",
    "\n",
    "3. Lastly we create a pandas Series called finals_with_athletes_counted containing a list with the occurrences of the nations in the dataframe finals_with_athletes. \n",
    "\n",
    "4. At the end we can plot the finals_with_athletes_counted Series as a piechart. "
   ]
  },
  {
   "cell_type": "code",
   "execution_count": 3,
   "metadata": {},
   "outputs": [
    {
     "data": {
      "text/html": [
       "<div>\n",
       "<style scoped>\n",
       "    .dataframe tbody tr th:only-of-type {\n",
       "        vertical-align: middle;\n",
       "    }\n",
       "\n",
       "    .dataframe tbody tr th {\n",
       "        vertical-align: top;\n",
       "    }\n",
       "\n",
       "    .dataframe thead th {\n",
       "        text-align: right;\n",
       "    }\n",
       "</style>\n",
       "<table border=\"1\" class=\"dataframe\">\n",
       "  <thead>\n",
       "    <tr style=\"text-align: right;\">\n",
       "      <th></th>\n",
       "      <th>year</th>\n",
       "      <th>athlete_id</th>\n",
       "      <th>round</th>\n",
       "      <th>rank</th>\n",
       "      <th>time_in_seconds</th>\n",
       "      <th>speedkmh</th>\n",
       "      <th>name</th>\n",
       "      <th>nation</th>\n",
       "      <th>date_of_birth</th>\n",
       "      <th>sex</th>\n",
       "    </tr>\n",
       "  </thead>\n",
       "  <tbody>\n",
       "    <tr>\n",
       "      <th>0</th>\n",
       "      <td>2000</td>\n",
       "      <td>66</td>\n",
       "      <td>finals</td>\n",
       "      <td>1</td>\n",
       "      <td>10.874</td>\n",
       "      <td>11.066</td>\n",
       "      <td>Marty Nothstein</td>\n",
       "      <td>United States</td>\n",
       "      <td>1971-02-10</td>\n",
       "      <td>male</td>\n",
       "    </tr>\n",
       "    <tr>\n",
       "      <th>1</th>\n",
       "      <td>2004</td>\n",
       "      <td>45</td>\n",
       "      <td>finals</td>\n",
       "      <td>1</td>\n",
       "      <td>10.661</td>\n",
       "      <td>NaN</td>\n",
       "      <td>Ryan Bayley</td>\n",
       "      <td>Australia</td>\n",
       "      <td>1982-03-09</td>\n",
       "      <td>male</td>\n",
       "    </tr>\n",
       "    <tr>\n",
       "      <th>2</th>\n",
       "      <td>2008</td>\n",
       "      <td>38</td>\n",
       "      <td>finals</td>\n",
       "      <td>1</td>\n",
       "      <td>10.228</td>\n",
       "      <td>10.216</td>\n",
       "      <td>Chris Hoy</td>\n",
       "      <td>Great Britain</td>\n",
       "      <td>1976-03-23</td>\n",
       "      <td>male</td>\n",
       "    </tr>\n",
       "    <tr>\n",
       "      <th>3</th>\n",
       "      <td>2012</td>\n",
       "      <td>1</td>\n",
       "      <td>finals</td>\n",
       "      <td>1</td>\n",
       "      <td>10.232</td>\n",
       "      <td>10.308</td>\n",
       "      <td>Jason Kenny</td>\n",
       "      <td>Great Britain</td>\n",
       "      <td>1988-03-23</td>\n",
       "      <td>male</td>\n",
       "    </tr>\n",
       "    <tr>\n",
       "      <th>4</th>\n",
       "      <td>2016</td>\n",
       "      <td>1</td>\n",
       "      <td>finals</td>\n",
       "      <td>1</td>\n",
       "      <td>10.164</td>\n",
       "      <td>NaN</td>\n",
       "      <td>Jason Kenny</td>\n",
       "      <td>Great Britain</td>\n",
       "      <td>1988-03-23</td>\n",
       "      <td>male</td>\n",
       "    </tr>\n",
       "  </tbody>\n",
       "</table>\n",
       "</div>"
      ],
      "text/plain": [
       "   year  athlete_id   round  rank  time_in_seconds  speedkmh             name  \\\n",
       "0  2000          66  finals     1           10.874    11.066  Marty Nothstein   \n",
       "1  2004          45  finals     1           10.661       NaN      Ryan Bayley   \n",
       "2  2008          38  finals     1           10.228    10.216        Chris Hoy   \n",
       "3  2012           1  finals     1           10.232    10.308      Jason Kenny   \n",
       "4  2016           1  finals     1           10.164       NaN      Jason Kenny   \n",
       "\n",
       "          nation date_of_birth   sex  \n",
       "0  United States    1971-02-10  male  \n",
       "1      Australia    1982-03-09  male  \n",
       "2  Great Britain    1976-03-23  male  \n",
       "3  Great Britain    1988-03-23  male  \n",
       "4  Great Britain    1988-03-23  male  "
      ]
     },
     "metadata": {},
     "output_type": "display_data"
    },
    {
     "data": {
      "text/plain": [
       "<AxesSubplot:ylabel='nation'>"
      ]
     },
     "metadata": {},
     "output_type": "display_data"
    },
    {
     "data": {
      "image/png": "[encoded data removed]",
      "text/plain": [
       "<Figure size 720x360 with 1 Axes>"
      ]
     },
     "metadata": {},
     "output_type": "display_data"
    }
   ],
   "source": [
    "finals = sport_events[(sport_events[\"round\"] == \"finals\" ) & (sport_events[\"rank\"] == 1 )]\n",
    "\n",
    "finals_with_athletes = pd.merge(finals,\n",
    "                                athlets,\n",
    "                                on ='athlete_id',\n",
    "                                how ='inner') \n",
    "\n",
    "display(finals_with_athletes)\n",
    "\n",
    "finals_with_athletes_counted = finals_with_athletes[\"nation\"].value_counts()\n",
    "\n",
    "display(finals_with_athletes_counted.plot(kind='pie',\n",
    "                                          figsize = (10,5),\n",
    "                                          startangle=235,\n",
    "                                          fontsize=14,\n",
    "                                          autopct='%1.1f%%'))\n"
   ]
  },
  {
   "cell_type": "markdown",
   "metadata": {},
   "source": [
    "### Result\n",
    "\n",
    "Description of the results: \n",
    "\n",
    "Great Britain won the most of the finals with 3 times. \n",
    "Here is an overview of the winners in the last five years: \n"
   ]
  },
  {
   "cell_type": "markdown",
   "metadata": {},
   "source": [
    "2000 | 2004 | 2008 | 2012, 2016\n",
    "- | - |- |- |\n",
    "Marty Nothstein | Ryan Bayley | Chris Hoy | Jason Kenny\n",
    "United States | Australia| Great Britain | Great Britain\n",
    "<img src=\"pictures/marty.jpg\" alt=\"marty\" style=\"width: 200px;\"/> | <img src=\"pictures/gettyimages-51217778-1024x1024.jpg\" alt=\"Bayley\" style=\"width: 200px;\"/> | <img src=\"pictures/images.jpg\" alt=\"Hoy\" style=\"width: 200px;\"/> |  <img src=\"pictures/Jason.jpg\" alt=\"Jason\" style=\"width: 200px;\"/>\n"
   ]
  },
  {
   "cell_type": "markdown",
   "metadata": {},
   "source": [
    "## How often did the Nations take part in the last five Olympic Games? "
   ]
  },
  {
   "cell_type": "markdown",
   "metadata": {},
   "source": [
    "### Code and Plots\n",
    "\n",
    "Description of the analysis"
   ]
  },
  {
   "cell_type": "markdown",
   "metadata": {},
   "source": [
    "1. To answer that question we first have to merge the the two dataframes sport_events and athlets on the athlete_id. \n",
    "\n",
    "2. After that we can group the dataframe by \"nation\". From that grouped dataframe we take a look only at the feature \"year\" and count how many times the unique nation appears per year. \n",
    "\n",
    "3. Lastly we sort the Series ascendingly. \n",
    "\n",
    "4. At the end we can plot the Series as a horizontal barchart."
   ]
  },
  {
   "cell_type": "code",
   "execution_count": 4,
   "metadata": {},
   "outputs": [
    {
     "data": {
      "text/plain": [
       "<AxesSubplot:ylabel='nation'>"
      ]
     },
     "metadata": {},
     "output_type": "display_data"
    },
    {
     "data": {
      "image/png": "[encoded data removed]",
      "text/plain": [
       "<Figure size 720x504 with 1 Axes>"
      ]
     },
     "metadata": {
      "needs_background": "light"
     },
     "output_type": "display_data"
    }
   ],
   "source": [
    "events_with_athletes = pd.merge(sport_events,\n",
    "                                athlets,\n",
    "                                on ='athlete_id',\n",
    "                                how ='inner')\n",
    "\n",
    "display(events_with_athletes\n",
    "        .groupby('nation')\n",
    "        .nunique()[\"year\"]\n",
    "        .sort_values(ascending = True)\n",
    "        .plot(kind='barh',\n",
    "              figsize = (10,7),\n",
    "              fontsize = 12))\n",
    "\n"
   ]
  },
  {
   "cell_type": "markdown",
   "metadata": {},
   "source": [
    "### Result\n",
    "\n",
    "Description of the results: \n",
    "\n",
    "The countries that took part the most (in all five games) are Australia, France, Germany and Great Britain. "
   ]
  },
  {
   "cell_type": "markdown",
   "metadata": {},
   "source": [
    "## What is the mean age of the nations teams at time of race ? "
   ]
  },
  {
   "cell_type": "markdown",
   "metadata": {},
   "source": [
    "### Code and Plots\n",
    "\n",
    "Description of the analysis"
   ]
  },
  {
   "cell_type": "markdown",
   "metadata": {},
   "source": [
    "1. We have to calculate the age of each of the athletes by taking his birthday and the time of the event which mostly was in august of the year the games took place. So we also hand over the year of the games. Then the with the datetime package we can calcualte the age of the athletes. The age then gets assigned to the \"age_at_event\" column created and filled with nans before. \n",
    "\n",
    "2. Then we create a DataFrame from the events_with_athletes from step 1 where we drop the duplicated athletes per year so we dont use the age several times when calculating the mean. Then we group the dataframe by nation and calculate the mean for the age per nation. After that we sort the values to look better in the plot. \n",
    "\n",
    "3. At the end we can plot the mean_age_per_nation DataFrame as a horizontal barplot. "
   ]
  },
  {
   "cell_type": "code",
   "execution_count": 5,
   "metadata": {},
   "outputs": [
    {
     "data": {
      "text/plain": [
       "<AxesSubplot:ylabel='nation'>"
      ]
     },
     "metadata": {},
     "output_type": "display_data"
    },
    {
     "data": {
      "image/png": "[encoded data removed]",
      "text/plain": [
       "<Figure size 720x504 with 1 Axes>"
      ]
     },
     "metadata": {
      "needs_background": "light"
     },
     "output_type": "display_data"
    }
   ],
   "source": [
    "def calculate_the_age(birthdate, year_of_event):\n",
    "    \"\"\" Calculates the age of each athlete with the date of the olympic game on 01.08. of the year the game took place\"\"\"\n",
    "    time_of_event = datetime.strptime(\"01.08.\"+ str(year_of_event), \"%d.%m.%Y\").date()\n",
    "    \n",
    "    return time_of_event.year - birthdate.year - ((time_of_event.month, time_of_event.day) < (birthdate.month, birthdate.day))\n",
    "\n",
    "events_with_athletes['age_at_event'] = np.nan\n",
    "\n",
    "for row in events_with_athletes.iterrows(): \n",
    "    events_with_athletes.loc[row[0], 'age_at_event'] = (calculate_the_age(events_with_athletes['date_of_birth'][row[0]], \n",
    "                                                                          events_with_athletes['year'][row[0]]))\n",
    "\n",
    "mean_age_per_nation = pd.DataFrame(events_with_athletes\n",
    "                                   .drop_duplicates(subset=['year', 'athlete_id'], keep=\"first\")\n",
    "                                   .groupby('nation')\n",
    "                                   .age_at_event.mean()\n",
    "                                   .sort_values(ascending = False))\n",
    "\n",
    "display(mean_age_per_nation.plot.barh(figsize = (10,7), fontsize = 12))\n"
   ]
  },
  {
   "cell_type": "markdown",
   "metadata": {},
   "source": [
    "### Result\n",
    "\n",
    "Description of the results: \n",
    "\n",
    "The oldest nation on average was Italy. The youngest nation on average was South Africa. \n"
   ]
  },
  {
   "cell_type": "markdown",
   "metadata": {},
   "source": [
    "## Which nation was the fastest?\n"
   ]
  },
  {
   "cell_type": "markdown",
   "metadata": {},
   "source": [
    "### Code and Plots\n",
    "\n",
    "Description of the analysis: \n",
    "\n",
    "1. First we filter the events_with_athletes DataFrame for time_in_seconds <= 9.5 because that are wrong data (an error during scraping the data) and replace it with nans. \n",
    "2. Create table out of merged2 (events_with_athlets) grouped by nation and aggregating the mean, min and max value of time_in_seconds\n",
    "3. Round the values and sort the results by the average\n",
    "4. To create a boxplot, we need the original time values to visualize the min, max and mean --> merge with original table merged2 <br>\n",
    "    * Why did we not only use merged2? The advantage of merging is, that we can sort the boxplot by min, max and mean. In this case by mean"
   ]
  },
  {
   "cell_type": "code",
   "execution_count": 6,
   "metadata": {},
   "outputs": [
    {
     "data": {
      "text/html": [
       "<div>\n",
       "<style scoped>\n",
       "    .dataframe tbody tr th:only-of-type {\n",
       "        vertical-align: middle;\n",
       "    }\n",
       "\n",
       "    .dataframe tbody tr th {\n",
       "        vertical-align: top;\n",
       "    }\n",
       "\n",
       "    .dataframe thead th {\n",
       "        text-align: right;\n",
       "    }\n",
       "</style>\n",
       "<table border=\"1\" class=\"dataframe\">\n",
       "  <thead>\n",
       "    <tr style=\"text-align: right;\">\n",
       "      <th></th>\n",
       "      <th>nation</th>\n",
       "      <th>time_mean</th>\n",
       "      <th>time_min</th>\n",
       "      <th>time_max</th>\n",
       "    </tr>\n",
       "  </thead>\n",
       "  <tbody>\n",
       "    <tr>\n",
       "      <th>17</th>\n",
       "      <td>Russia</td>\n",
       "      <td>10.249625</td>\n",
       "      <td>10.102</td>\n",
       "      <td>10.690</td>\n",
       "    </tr>\n",
       "    <tr>\n",
       "      <th>22</th>\n",
       "      <td>Trinidad and Tobago</td>\n",
       "      <td>10.437750</td>\n",
       "      <td>10.221</td>\n",
       "      <td>10.545</td>\n",
       "    </tr>\n",
       "    <tr>\n",
       "      <th>24</th>\n",
       "      <td>Venezuela</td>\n",
       "      <td>10.439000</td>\n",
       "      <td>10.439</td>\n",
       "      <td>10.439</td>\n",
       "    </tr>\n",
       "    <tr>\n",
       "      <th>15</th>\n",
       "      <td>New Zealand</td>\n",
       "      <td>10.448333</td>\n",
       "      <td>10.159</td>\n",
       "      <td>10.801</td>\n",
       "    </tr>\n",
       "    <tr>\n",
       "      <th>3</th>\n",
       "      <td>Colombia</td>\n",
       "      <td>10.486200</td>\n",
       "      <td>10.272</td>\n",
       "      <td>10.982</td>\n",
       "    </tr>\n",
       "    <tr>\n",
       "      <th>8</th>\n",
       "      <td>Great Britain</td>\n",
       "      <td>10.491536</td>\n",
       "      <td>10.119</td>\n",
       "      <td>11.214</td>\n",
       "    </tr>\n",
       "    <tr>\n",
       "      <th>16</th>\n",
       "      <td>Poland</td>\n",
       "      <td>10.512667</td>\n",
       "      <td>10.177</td>\n",
       "      <td>10.848</td>\n",
       "    </tr>\n",
       "    <tr>\n",
       "      <th>2</th>\n",
       "      <td>China</td>\n",
       "      <td>10.523000</td>\n",
       "      <td>10.373</td>\n",
       "      <td>10.753</td>\n",
       "    </tr>\n",
       "    <tr>\n",
       "      <th>0</th>\n",
       "      <td>Australia</td>\n",
       "      <td>10.634960</td>\n",
       "      <td>10.165</td>\n",
       "      <td>11.805</td>\n",
       "    </tr>\n",
       "    <tr>\n",
       "      <th>7</th>\n",
       "      <td>Germany</td>\n",
       "      <td>10.672160</td>\n",
       "      <td>10.225</td>\n",
       "      <td>11.104</td>\n",
       "    </tr>\n",
       "    <tr>\n",
       "      <th>6</th>\n",
       "      <td>France</td>\n",
       "      <td>10.702857</td>\n",
       "      <td>10.103</td>\n",
       "      <td>11.166</td>\n",
       "    </tr>\n",
       "    <tr>\n",
       "      <th>14</th>\n",
       "      <td>Netherlands</td>\n",
       "      <td>10.714214</td>\n",
       "      <td>10.181</td>\n",
       "      <td>11.164</td>\n",
       "    </tr>\n",
       "    <tr>\n",
       "      <th>19</th>\n",
       "      <td>South Africa</td>\n",
       "      <td>10.762000</td>\n",
       "      <td>10.762</td>\n",
       "      <td>10.762</td>\n",
       "    </tr>\n",
       "    <tr>\n",
       "      <th>13</th>\n",
       "      <td>Malaysia</td>\n",
       "      <td>10.780800</td>\n",
       "      <td>10.456</td>\n",
       "      <td>11.010</td>\n",
       "    </tr>\n",
       "    <tr>\n",
       "      <th>10</th>\n",
       "      <td>Italy</td>\n",
       "      <td>10.786000</td>\n",
       "      <td>10.786</td>\n",
       "      <td>10.786</td>\n",
       "    </tr>\n",
       "    <tr>\n",
       "      <th>5</th>\n",
       "      <td>Czech Republic</td>\n",
       "      <td>10.810600</td>\n",
       "      <td>10.264</td>\n",
       "      <td>11.102</td>\n",
       "    </tr>\n",
       "    <tr>\n",
       "      <th>23</th>\n",
       "      <td>United States</td>\n",
       "      <td>10.817875</td>\n",
       "      <td>10.399</td>\n",
       "      <td>11.186</td>\n",
       "    </tr>\n",
       "    <tr>\n",
       "      <th>11</th>\n",
       "      <td>Japan</td>\n",
       "      <td>10.902333</td>\n",
       "      <td>10.792</td>\n",
       "      <td>10.965</td>\n",
       "    </tr>\n",
       "    <tr>\n",
       "      <th>12</th>\n",
       "      <td>Latvia</td>\n",
       "      <td>11.008000</td>\n",
       "      <td>11.008</td>\n",
       "      <td>11.008</td>\n",
       "    </tr>\n",
       "    <tr>\n",
       "      <th>1</th>\n",
       "      <td>Barbados</td>\n",
       "      <td>11.012500</td>\n",
       "      <td>10.731</td>\n",
       "      <td>11.294</td>\n",
       "    </tr>\n",
       "    <tr>\n",
       "      <th>21</th>\n",
       "      <td>Spain</td>\n",
       "      <td>11.226333</td>\n",
       "      <td>11.063</td>\n",
       "      <td>11.382</td>\n",
       "    </tr>\n",
       "    <tr>\n",
       "      <th>4</th>\n",
       "      <td>Cuba</td>\n",
       "      <td>NaN</td>\n",
       "      <td>NaN</td>\n",
       "      <td>NaN</td>\n",
       "    </tr>\n",
       "    <tr>\n",
       "      <th>9</th>\n",
       "      <td>Greece</td>\n",
       "      <td>NaN</td>\n",
       "      <td>NaN</td>\n",
       "      <td>NaN</td>\n",
       "    </tr>\n",
       "    <tr>\n",
       "      <th>18</th>\n",
       "      <td>Slovakia</td>\n",
       "      <td>NaN</td>\n",
       "      <td>NaN</td>\n",
       "      <td>NaN</td>\n",
       "    </tr>\n",
       "    <tr>\n",
       "      <th>20</th>\n",
       "      <td>South Korea</td>\n",
       "      <td>NaN</td>\n",
       "      <td>NaN</td>\n",
       "      <td>NaN</td>\n",
       "    </tr>\n",
       "  </tbody>\n",
       "</table>\n",
       "</div>"
      ],
      "text/plain": [
       "                 nation  time_mean  time_min  time_max\n",
       "17               Russia  10.249625    10.102    10.690\n",
       "22  Trinidad and Tobago  10.437750    10.221    10.545\n",
       "24            Venezuela  10.439000    10.439    10.439\n",
       "15          New Zealand  10.448333    10.159    10.801\n",
       "3              Colombia  10.486200    10.272    10.982\n",
       "8         Great Britain  10.491536    10.119    11.214\n",
       "16               Poland  10.512667    10.177    10.848\n",
       "2                 China  10.523000    10.373    10.753\n",
       "0             Australia  10.634960    10.165    11.805\n",
       "7               Germany  10.672160    10.225    11.104\n",
       "6                France  10.702857    10.103    11.166\n",
       "14          Netherlands  10.714214    10.181    11.164\n",
       "19         South Africa  10.762000    10.762    10.762\n",
       "13             Malaysia  10.780800    10.456    11.010\n",
       "10                Italy  10.786000    10.786    10.786\n",
       "5        Czech Republic  10.810600    10.264    11.102\n",
       "23        United States  10.817875    10.399    11.186\n",
       "11                Japan  10.902333    10.792    10.965\n",
       "12               Latvia  11.008000    11.008    11.008\n",
       "1              Barbados  11.012500    10.731    11.294\n",
       "21                Spain  11.226333    11.063    11.382\n",
       "4                  Cuba        NaN       NaN       NaN\n",
       "9                Greece        NaN       NaN       NaN\n",
       "18             Slovakia        NaN       NaN       NaN\n",
       "20          South Korea        NaN       NaN       NaN"
      ]
     },
     "metadata": {},
     "output_type": "display_data"
    },
    {
     "data": {
      "text/plain": [
       "<AxesSubplot:xlabel='time_in_seconds', ylabel='nation'>"
      ]
     },
     "execution_count": 6,
     "metadata": {},
     "output_type": "execute_result"
    },
    {
     "data": {
      "image/png": "[encoded data removed]",
      "text/plain": [
       "<Figure size 1152x720 with 1 Axes>"
      ]
     },
     "metadata": {},
     "output_type": "display_data"
    }
   ],
   "source": [
    "merged2 = events_with_athletes\n",
    "\n",
    "merged2['time_in_seconds'] = np.where((merged2.time_in_seconds.astype(float) <= 9.5),np.nan,merged2.time_in_seconds)\n",
    "\n",
    "tmp = merged2.groupby('nation', as_index=False).agg({'time_in_seconds': ['mean', \"min\", \"max\"]})\n",
    "tmp.time_in_seconds.round(3)\n",
    "tmp.columns = ['nation', 'time_mean', 'time_min', 'time_max']\n",
    "tmp.sort_values(by='time_mean', inplace=True, ascending=True)\n",
    "display(tmp)\n",
    "\n",
    "\n",
    "merged3 = pd.merge(merged2,tmp,on ='nation', how ='inner')\n",
    "merged3.sort_values(by='time_mean', inplace=True, ascending=True)\n",
    "\n",
    "sns.set(rc={'figure.figsize':(16,10)})\n",
    "sns.boxplot(data = merged3, x='time_in_seconds', y='nation')"
   ]
  },
  {
   "cell_type": "markdown",
   "metadata": {},
   "source": [
    "### Result\n",
    "\n",
    "Description of the results: \n",
    "\n",
    "As a result you can see that Russia was the fastest nation on average in the last 20 years. As lower the nation as slower the average. If there is no box, that means there are not times recoreded. Therefore these nations never won a race in any round, because you only get a time as a winner. \n",
    "<br> --> Cuba, Greece, Slovakia and South Korea have never come further than Heat 1-8.\n",
    "\n",
    "In addition you can see the different ranges of times by nation. So the left start of the box shows the minimum (fastest time) and on the right, where the box ends, the maximum (slowest time) a nation drove and won. \n",
    "\n",
    "As you now a certain nation is disqualified from Olympia due to doping.. guess who :D"
   ]
  },
  {
   "cell_type": "markdown",
   "metadata": {},
   "source": [
    "## How do the round times change over the course of the years ?\n",
    "\n",
    "(Correlation of years and round time)"
   ]
  },
  {
   "cell_type": "markdown",
   "metadata": {},
   "source": [
    "### Code and Plots\n",
    "\n",
    "Description of the analysis: \n",
    "\n",
    "1. On the basis of the merged DataFrame of sport events and athletes we can create a scatter plot with the package Seaborn. \n",
    "\n",
    "2. Therefore we hand over the values for the x-axis = \"year\" and the y axis: \"time_in_seconds\". \n"
   ]
  },
  {
   "cell_type": "code",
   "execution_count": 7,
   "metadata": {},
   "outputs": [
    {
     "data": {
      "text/plain": [
       "<AxesSubplot:xlabel='year', ylabel='time_in_seconds'>"
      ]
     },
     "metadata": {},
     "output_type": "display_data"
    },
    {
     "data": {
      "image/png": "[encoded data removed]",
      "text/plain": [
       "<Figure size 720x432 with 1 Axes>"
      ]
     },
     "metadata": {},
     "output_type": "display_data"
    }
   ],
   "source": [
    "sns.set(rc={'figure.figsize':(10,6)})\n",
    "display(sns.regplot(events_with_athletes[events_with_athletes['time_in_seconds']>8]['year'],events_with_athletes[events_with_athletes['time_in_seconds']>8]['time_in_seconds']))\n"
   ]
  },
  {
   "cell_type": "markdown",
   "metadata": {},
   "source": [
    "### Result\n",
    "\n",
    "Description of the results: \n",
    "\n",
    "The plot shows that there is a clear trend that every year the round times get smaller. So the Cyclists in each year are faster. The mean changes from 11.00 seconds in 2000 to nearly 10.40 in 2016. \n"
   ]
  },
  {
   "cell_type": "markdown",
   "metadata": {},
   "source": [
    "# Tests"
   ]
  },
  {
   "cell_type": "code",
   "execution_count": 8,
   "metadata": {},
   "outputs": [
    {
     "name": "stderr",
     "output_type": "stream",
     "text": [
      "test_if_Germany_is_in_nation_list (__main__.OlympicGameTests)\n",
      "Test if germany is in nation list ... ok\n",
      "test_if_athlete_dataframe_not_empty (__main__.OlympicGameTests)\n",
      "Test if athlete dataframe is not empty ... ok\n",
      "test_if_finals_dataframe_contains_5_entries (__main__.OlympicGameTests)\n",
      "Test if finals dataframe contains 5 entries ... ok\n",
      "test_if_mean_for_russia_is_calculated (__main__.OlympicGameTests)\n",
      "Test if mean for russia is calculated ... ok\n",
      "test_if_sport_events_file_path_conatins_file (__main__.OlympicGameTests)\n",
      "Test if sport_events file path contains file ... ok\n",
      "\n",
      "----------------------------------------------------------------------\n",
      "Ran 5 tests in 0.004s\n",
      "\n",
      "OK\n"
     ]
    }
   ],
   "source": [
    "from os import path\n",
    "\n",
    "class OlympicGameTests(unittest.TestCase):\n",
    "\n",
    "    \"\"\" class for the Olympic game unittests \"\"\"\n",
    "\n",
    "    def test_if_sport_events_file_path_conatins_file(self):\n",
    "        \"\"\" Test if sport_events file path contains file \"\"\"\n",
    "        file = 'sport_events.csv'\n",
    "        self.assertTrue(path.isfile(file)==True)\n",
    "        self.assertFalse(path.isfile(file) == False)    \n",
    "        \n",
    "    def test_if_athlete_dataframe_not_empty(self):\n",
    "        \"\"\" Test if athlete dataframe is not empty \"\"\"\n",
    "        self.assertTrue(len(athlets) != 0)\n",
    "        self.assertFalse(len(athlets) == 0)    \n",
    "        \n",
    "    def test_if_finals_dataframe_contains_5_entries(self):\n",
    "        \"\"\" Test if finals dataframe contains 5 entries \"\"\"\n",
    "        self.assertTrue(len(finals_with_athletes) == 5)\n",
    "        self.assertFalse(len(finals_with_athletes) != 5)      \n",
    "        \n",
    "    def test_if_Germany_is_in_nation_list(self):\n",
    "        \"\"\" Test if germany is in nation list \"\"\"\n",
    "        self.assertIn('Germany', list(tmp.nation))\n",
    "\n",
    "    def test_if_mean_for_russia_is_calculated(self):\n",
    "        \"\"\" Test if mean for russia is calculated \"\"\"\n",
    "        self.assertIsNotNone(merged3[merged3[\"nation\"] == \"Russia\"].time_mean[304])\n",
    "\n",
    "if __name__ == '__main__':\n",
    "    unittest.main(argv=['first-arg-is-ignored','-v'], exit=False)"
   ]
  }
 ],
 "metadata": {
  "kernelspec": {
   "display_name": "Python 3",
   "language": "python",
   "name": "python3"
  },
  "language_info": {
   "codemirror_mode": {
    "name": "ipython",
    "version": 3
   },
   "file_extension": ".py",
   "mimetype": "text/x-python",
   "name": "python",
   "nbconvert_exporter": "python",
   "pygments_lexer": "ipython3",
   "version": "3.8.4"
  }
 },
 "nbformat": 4,
 "nbformat_minor": 4
}
